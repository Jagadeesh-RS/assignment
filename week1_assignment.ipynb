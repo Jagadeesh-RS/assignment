{
 "cells": [
  {
   "cell_type": "code",
   "execution_count": 8,
   "id": "5e04ac3c-dbc4-4afc-8ddd-da9b49b5d552",
   "metadata": {
    "collapsed": true,
    "jupyter": {
     "outputs_hidden": true
    },
    "tags": []
   },
   "outputs": [
    {
     "ename": "SyntaxError",
     "evalue": "invalid syntax (971756671.py, line 10)",
     "output_type": "error",
     "traceback": [
      "\u001b[0;36m  Cell \u001b[0;32mIn[8], line 10\u001b[0;36m\u001b[0m\n\u001b[0;31m    var2 = ['DS','ML','PYTHON']  \"\"\" LIST \"\"\"\u001b[0m\n\u001b[0m                                 ^\u001b[0m\n\u001b[0;31mSyntaxError\u001b[0m\u001b[0;31m:\u001b[0m invalid syntax\n"
     ]
    }
   ],
   "source": [
    "STRING = 'Assam'\n",
    "lIST = [\"Monday\",\"Tuesday\"]\n",
    "TUPLE = tuple(l)\n",
    "NUMBER = 45.44\n",
    "var = ''                     \"\"\" String \"\"\"\n",
    "\n",
    "var2 = '[DS,ML,PYTHON]'       \"\"\" String \"\"\"\n",
    "\n",
    "var2 = ['DS','ML','PYTHON']  \"\"\" LIST \"\"\"\n",
    "\n",
    "var4 = 1                       \"\"\" INT \"\"\"\n"
   ]
  },
  {
   "cell_type": "code",
   "execution_count": 2,
   "id": "268d42fe-f55e-403f-855a-e3aa74c6943c",
   "metadata": {
    "collapsed": true,
    "jupyter": {
     "outputs_hidden": true
    },
    "tags": []
   },
   "outputs": [
    {
     "data": {
      "text/plain": [
       "' \\n/ is used for division \\n% is used to get reminder\\n// is used to get floor division\\n** is used to compute cube of the definend number\\n'"
      ]
     },
     "execution_count": 2,
     "metadata": {},
     "output_type": "execute_result"
    }
   ],
   "source": [
    "\"\"\" \n",
    "/ is used for division \n",
    "% is used to get reminder\n",
    "// is used to get floor division\n",
    "** is used to compute cube of the definend number\n",
    "\"\"\""
   ]
  },
  {
   "cell_type": "code",
   "execution_count": 3,
   "id": "4e36eda6-0997-4228-8e1b-38ca0f319e46",
   "metadata": {
    "collapsed": true,
    "jupyter": {
     "outputs_hidden": true
    },
    "tags": []
   },
   "outputs": [
    {
     "name": "stdout",
     "output_type": "stream",
     "text": [
      "1 <class 'int'>\n",
      "2 <class 'int'>\n",
      "3 <class 'int'>\n",
      "Chennai <class 'str'>\n",
      "(1+8j) <class 'complex'>\n",
      "4.46 <class 'float'>\n",
      "0.76 <class 'float'>\n",
      "A <class 'str'>\n",
      "B <class 'str'>\n",
      "C <class 'str'>\n"
     ]
    }
   ],
   "source": [
    "LIST = [1,2,3,\"Chennai\", 1+8j, 4.46, 0.76, \"A\",\"B\",\"C\"]\n",
    "for i in LIST :\n",
    "   print(i,type(i))"
   ]
  },
  {
   "cell_type": "code",
   "execution_count": 5,
   "id": "9f215fb1-49b0-4df5-9332-005aace726f4",
   "metadata": {
    "collapsed": true,
    "jupyter": {
     "outputs_hidden": true
    },
    "tags": []
   },
   "outputs": [
    {
     "name": "stdin",
     "output_type": "stream",
     "text": [
      "Please enter the number 23\n"
     ]
    },
    {
     "name": "stdout",
     "output_type": "stream",
     "text": [
      "The number cannot be divisible by 3\n"
     ]
    }
   ],
   "source": [
    "a = int(input(\"Please enter the number\"))\n",
    "\n",
    "if a%3 == 0:\n",
    "    c = a//3\n",
    "    print (\"The number \", a ,\"can be divided\", c ,\"Times by 3\" )\n",
    "    \n",
    "else :\n",
    "    print (\"The number cannot be divisible by 3\")\n"
   ]
  },
  {
   "cell_type": "code",
   "execution_count": 6,
   "id": "b0c63129-daae-4905-865b-41aa7dfd75f5",
   "metadata": {
    "collapsed": true,
    "jupyter": {
     "outputs_hidden": true
    },
    "tags": []
   },
   "outputs": [
    {
     "name": "stdout",
     "output_type": "stream",
     "text": [
      "1 is not divisible by 3\n",
      "2 is not divisible by 3\n",
      "3 is divisible by 3\n",
      "4 is not divisible by 3\n",
      "5 is not divisible by 3\n",
      "6 is divisible by 3\n",
      "7 is not divisible by 3\n",
      "8 is not divisible by 3\n",
      "9 is divisible by 3\n",
      "10 is not divisible by 3\n",
      "11 is not divisible by 3\n",
      "12 is divisible by 3\n",
      "13 is not divisible by 3\n",
      "14 is not divisible by 3\n",
      "15 is divisible by 3\n",
      "16 is not divisible by 3\n",
      "17 is not divisible by 3\n",
      "18 is divisible by 3\n",
      "19 is not divisible by 3\n",
      "20 is not divisible by 3\n",
      "21 is divisible by 3\n",
      "22 is not divisible by 3\n",
      "23 is not divisible by 3\n",
      "24 is divisible by 3\n",
      "25 is not divisible by 3\n"
     ]
    }
   ],
   "source": [
    "n = range(1,26)\n",
    " \n",
    "for i in n :\n",
    "       if (i%3 == 0):\n",
    "            print(i,\"is divisible by 3\")\n",
    "       else :\n",
    "            print(i, 'is not divisible by 3')"
   ]
  },
  {
   "cell_type": "code",
   "execution_count": null,
   "id": "73ba213a-e3bf-47c4-80d0-b5d7ddceb6e4",
   "metadata": {},
   "outputs": [],
   "source": [
    "\"\"\" What do you understand about mutable and immutable data types? Give examples for both showing  this property.\n",
    "\n",
    "The mutable data type is free to modify the data, \n",
    "Example is list\n",
    "LIST = [1,2,3,4]\n",
    "here  i can change the value of LIST[2] = 4, which is possible\n",
    "\n",
    "whereas in immutable  data type never allows to modify the data \n",
    "\n",
    "Examplpe is Tuple\n",
    "\n",
    "tuple(LIST)\n",
    "LIST = [1,2,3,4]\n",
    "list[2] = 4 is not allowed here"
   ]
  }
 ],
 "metadata": {
  "kernelspec": {
   "display_name": "Python 3 (ipykernel)",
   "language": "python",
   "name": "python3"
  },
  "language_info": {
   "codemirror_mode": {
    "name": "ipython",
    "version": 3
   },
   "file_extension": ".py",
   "mimetype": "text/x-python",
   "name": "python",
   "nbconvert_exporter": "python",
   "pygments_lexer": "ipython3",
   "version": "3.10.8"
  }
 },
 "nbformat": 4,
 "nbformat_minor": 5
}
